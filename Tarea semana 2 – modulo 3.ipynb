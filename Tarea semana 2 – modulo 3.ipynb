{
 "cells": [
  {
   "cell_type": "markdown",
   "metadata": {
    "id": "_mE_kC8-w2HN"
   },
   "source": [
    "# Actividad practica"
   ]
  },
  {
   "cell_type": "code",
   "execution_count": null,
   "metadata": {
    "id": "dcxTdTQhwqgm"
   },
   "outputs": [],
   "source": [
    "import pandas as pd\n",
    "import numpy as np\n",
    "import sklearn as sk\n",
    "import matplotlib.pyplot as plt\n",
    "import seaborn as sns\n",
    "%matplotlib notebook\n"
   ]
  },
  {
   "cell_type": "markdown",
   "metadata": {
    "id": "4bjuzMbxypes"
   },
   "source": [
    "## Datos"
   ]
  },
  {
   "cell_type": "markdown",
   "metadata": {
    "id": "RZ8SxcK8o7mi"
   },
   "source": [
    "Bases de datos sugeridas:\n",
    "- Skin Cancer ISIC https://www.kaggle.com/datasets/fanconic/skin-cancer-malignant-vs-benign/data - Imagenes de piel con y sin cancer de piel.\n",
    "- ECG Heartbeat Categorization Dataset https://www.kaggle.com/datasets/shayanfazeli/heartbeat - Series de tiempo con señales ECG.\n",
    "- Medical Appointment No Shows https://www.kaggle.com/datasets/joniarroba/noshowappointments/data - Tabla con informacion de pacientes que no llegan a citas medicas."
   ]
  },
  {
   "cell_type": "code",
   "execution_count": null,
   "metadata": {
    "id": "GA16eZ2Yyh3C"
   },
   "outputs": [],
   "source": [
    "#!/bin/bash\n",
    "!curl -L -o ~/Downloads/noshowappointments.zip\\\n",
    "  https://www.kaggle.com/api/v1/datasets/download/joniarroba/noshowappointments"
   ]
  },
  {
   "cell_type": "markdown",
   "metadata": {
    "id": "9gZjv9LFy8lQ"
   },
   "source": [
    "## Inspección de datos"
   ]
  },
  {
   "cell_type": "markdown",
   "metadata": {
    "id": "kBwXr7m4rK5V"
   },
   "source": [
    "- Cuantos datos hay?\n",
    "- Cuantas caracteristicas tiene cada dato?\n",
    "- Cual es el valor maximo? Cual es el valor minimo?"
   ]
  },
  {
   "cell_type": "code",
   "execution_count": null,
   "metadata": {
    "id": "4Hf17CX7zaFF"
   },
   "outputs": [],
   "source": []
  },
  {
   "cell_type": "markdown",
   "metadata": {
    "id": "1EbPdOfaz1BK"
   },
   "source": [
    "### Limpieza"
   ]
  },
  {
   "cell_type": "markdown",
   "metadata": {
    "id": "WN6aNVcatxXk"
   },
   "source": [
    "- Hay valores incompletos?\n",
    "- Hay valores incoherentes?\n",
    "- Elimine los que encuentre anomalos"
   ]
  },
  {
   "cell_type": "code",
   "execution_count": null,
   "metadata": {
    "id": "8rfbcPnuz3oL"
   },
   "outputs": [],
   "source": []
  },
  {
   "cell_type": "markdown",
   "metadata": {
    "id": "eUQZjf5jzb1a"
   },
   "source": [
    "### Normalización"
   ]
  },
  {
   "cell_type": "markdown",
   "metadata": {
    "id": "-YsjWnDGuitA"
   },
   "source": [
    "- Como se verian los datos con normalización max?\n",
    "- Como se verian los datos con normalización min-max?\n",
    "- Como se verian los datos con normalización estandar?"
   ]
  },
  {
   "cell_type": "code",
   "execution_count": null,
   "metadata": {
    "id": "geH6i76_z0JF"
   },
   "outputs": [],
   "source": []
  }
 ],
 "metadata": {
  "colab": {
   "provenance": []
  },
  "kernelspec": {
   "display_name": "Python 3 (ipykernel)",
   "language": "python",
   "name": "python3"
  },
  "language_info": {
   "codemirror_mode": {
    "name": "ipython",
    "version": 3
   },
   "file_extension": ".py",
   "mimetype": "text/x-python",
   "name": "python",
   "nbconvert_exporter": "python",
   "pygments_lexer": "ipython3",
   "version": "3.7.1"
  }
 },
 "nbformat": 4,
 "nbformat_minor": 4
}
